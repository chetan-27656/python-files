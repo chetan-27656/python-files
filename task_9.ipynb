{
  "nbformat": 4,
  "nbformat_minor": 0,
  "metadata": {
    "colab": {
      "provenance": [],
      "authorship_tag": "ABX9TyOkOJwv+DSbXKBK4ckoi4lg",
      "include_colab_link": true
    },
    "kernelspec": {
      "name": "python3",
      "display_name": "Python 3"
    },
    "language_info": {
      "name": "python"
    }
  },
  "cells": [
    {
      "cell_type": "markdown",
      "metadata": {
        "id": "view-in-github",
        "colab_type": "text"
      },
      "source": [
        "<a href=\"https://colab.research.google.com/github/chetan-27656/python-files/blob/main/task_9.ipynb\" target=\"_parent\"><img src=\"https://colab.research.google.com/assets/colab-badge.svg\" alt=\"Open In Colab\"/></a>"
      ]
    },
    {
      "cell_type": "code",
      "execution_count": 2,
      "metadata": {
        "colab": {
          "base_uri": "https://localhost:8080/"
        },
        "id": "vBHuOWNitua7",
        "outputId": "ec252cbd-3dd1-4082-e232-dad1ae765aa8"
      },
      "outputs": [
        {
          "output_type": "stream",
          "name": "stdout",
          "text": [
            "Please enter your age: 25\n",
            "Your age is: 25\n"
          ]
        }
      ],
      "source": [
        "def get_age():\n",
        "    while True:\n",
        "        try:\n",
        "            age = int(input(\"Please enter your age: \"))\n",
        "            if age < 0:\n",
        "                raise ValueError(\"Age cannot be negative.\")\n",
        "            return age\n",
        "        except ValueError as ve:\n",
        "            print(\"Invalid input:\", ve)\n",
        "try:\n",
        "    age = get_age()\n",
        "    print(\"Your age is:\", age)\n",
        "except ValueError as ve:\n",
        "    print(\"An error occurred:\", ve)"
      ]
    },
    {
      "cell_type": "code",
      "source": [
        "def view_seat_details(seat_list, index):\n",
        "  try:\n",
        "    seat = seat_list[index]\n",
        "    print(\"Seat Details:\")\n",
        "    print(\"Seat Number:\", seat.get(\"number\"))\n",
        "    print(\"Section:\", seat.get(\"section\"))\n",
        "    print(\"Availability:\", \"Booked\" if seat.get(\"is_booked\") else \"Available\")\n",
        "  except IndexError:\n",
        "    print(\"Invalid seat index. Please select a valid seat.\")\n",
        "\n",
        "# Sample list of seats\n",
        "seats = [\n",
        "  {\"number\": \"A1\", \"section\": \"VIP\", \"is_booked\": False},\n",
        "  {\"number\": \"A2\", \"section\": \"VIP\", \"is_booked\": True},\n",
        "  {\"number\": \"B1\", \"section\": \"General\", \"is_booked\": False},\n",
        "  {\"number\": \"B2\", \"section\": \"General\", \"is_booked\": False}\n",
        "]\n",
        "\n",
        "# Test the function\n",
        "try:\n",
        "  seat_index = int(input(\"Enter the index of the seat you want to view: \"))\n",
        "  view_seat_details(seats, seat_index)\n",
        "except ValueError:\n",
        "  print(\"Invalid input. Please enter a valid seat index (integer).\")"
      ],
      "metadata": {
        "colab": {
          "base_uri": "https://localhost:8080/"
        },
        "id": "kPGmgT6zt2mW",
        "outputId": "8dbae45e-0ac7-41f8-b233-b09da3e67c1d"
      },
      "execution_count": 4,
      "outputs": [
        {
          "output_type": "stream",
          "name": "stdout",
          "text": [
            "Enter the index of the seat you want to view: 1\n",
            "Seat Details:\n",
            "Seat Number: A2\n",
            "Section: VIP\n",
            "Availability: Booked\n"
          ]
        }
      ]
    },
    {
      "cell_type": "code",
      "source": [
        "def open_file(filename):\n",
        "  try:\n",
        "    # Attempt to open the specified file in read mode ('r').\n",
        "    file = open(filename, 'r')\n",
        "    # Read the contents of the file and store them in the 'contents' variable.\n",
        "    contents = file.read()\n",
        "    # Print a message to indicate that the file contents will be displayed.\n",
        "    print(\"File contents:\")\n",
        "    # Print the contents of the file.\n",
        "    print(contents)\n",
        "    # Close the file to release system resources.\n",
        "    file.close()\n",
        "  except FileNotFoundError:\n",
        "    # Handle the exception if the specified file is not found.\n",
        "    print(\"Error: File not found.\")\n",
        "# Prompt the user to input a file name and store it in the 'file_name' variable.\n",
        "file_name = input(\"Input a file name: \")\n",
        "# Call the open_file function with the provided file name.\n",
        "open_file(file_name)"
      ],
      "metadata": {
        "colab": {
          "base_uri": "https://localhost:8080/"
        },
        "id": "UT3z4HyvuED1",
        "outputId": "204d5244-39ec-438d-d667-107f61805511"
      },
      "execution_count": 8,
      "outputs": [
        {
          "output_type": "stream",
          "name": "stdout",
          "text": [
            "Input a file name: learn.txt\n",
            "Error: File not found.\n"
          ]
        }
      ]
    },
    {
      "cell_type": "code",
      "source": [
        "try:\n",
        " # Attempt to get the initial investment amount from the user\n",
        " initial_investment = float(input(\"Enter the initial investment amount: \"))\n",
        " # Attempt to get the final investment amount from the user\n",
        " final_investment = float(input(\"Enter the final investment amount: \"))\n",
        " # Calculate the return on investment (ROI)\n",
        " roi = (final_investment - initial_investment) / initial_investment * 100\n",
        " print(\"Return on Investment (ROI): {:.2f}\".format(roi))\n",
        "except ValueError:\n",
        " # Handle the ValueError exception\n",
        " print(\"Error: Please enter a valid numeric value for the investment amount.\")\n",
        "except ZeroDivisionError:\n",
        " # Handle the ZeroDivisionError exception\n",
        " print(\"Error: Initial investment amount cannot be zero.\")"
      ],
      "metadata": {
        "colab": {
          "base_uri": "https://localhost:8080/"
        },
        "id": "Kr2XeMoxuIqm",
        "outputId": "44fddae3-963e-4267-ad0b-625348b4e94c"
      },
      "execution_count": 7,
      "outputs": [
        {
          "output_type": "stream",
          "name": "stdout",
          "text": [
            "Enter the initial investment amount: 100\n",
            "Enter the final investment amount: 300\n",
            "Return on Investment (ROI): 200.00\n"
          ]
        }
      ]
    }
  ]
}