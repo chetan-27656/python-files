{
  "nbformat": 4,
  "nbformat_minor": 0,
  "metadata": {
    "colab": {
      "provenance": [],
      "authorship_tag": "ABX9TyPQsqS2TcaWouSxWYar0Fvl",
      "include_colab_link": true
    },
    "kernelspec": {
      "name": "python3",
      "display_name": "Python 3"
    },
    "language_info": {
      "name": "python"
    }
  },
  "cells": [
    {
      "cell_type": "markdown",
      "metadata": {
        "id": "view-in-github",
        "colab_type": "text"
      },
      "source": [
        "<a href=\"https://colab.research.google.com/github/chetan-27656/python-files/blob/main/task_1.ipynb\" target=\"_parent\"><img src=\"https://colab.research.google.com/assets/colab-badge.svg\" alt=\"Open In Colab\"/></a>"
      ]
    },
    {
      "cell_type": "code",
      "execution_count": 1,
      "metadata": {
        "colab": {
          "base_uri": "https://localhost:8080/"
        },
        "id": "iwls8Hu1eKxS",
        "outputId": "927a5551-d8aa-4a38-8901-80fbe350db70"
      },
      "outputs": [
        {
          "output_type": "stream",
          "name": "stdout",
          "text": [
            "Enter the principal amount: 1000\n",
            "Enter the rate of interest: 5\n",
            "Enter the time in years: 2\n",
            "The compound interest is: 102.5\n"
          ]
        }
      ],
      "source": [
        "principal = float(input(\"Enter the principal amount: \"))\n",
        "\n",
        "rate = float(input(\"Enter the rate of interest: \"))\n",
        "\n",
        "time = float(input(\"Enter the time in years: \"))\n",
        "\n",
        "compound_interest = principal * ((1+ rate/100) ** time) - principal\n",
        "\n",
        "print(\"The compound interest is:\", compound_interest)"
      ]
    },
    {
      "cell_type": "code",
      "source": [
        "def calculate_total_cost(x, y):\n",
        "    return x * y\n",
        "\n",
        "t = int(input(\"Enter the number of test cases: \"))\n",
        "\n",
        "for _ in range(t):\n",
        "    x, y = map(int, input(\"Enter x and y separated by space: \").split())\n",
        "    total_amount = calculate_total_cost(x, y)\n",
        "    print(total_amount)\n"
      ],
      "metadata": {
        "colab": {
          "base_uri": "https://localhost:8080/"
        },
        "id": "qKxtqMUdfEXy",
        "outputId": "033fa33f-fa21-4a60-cbf7-54e75d802e62"
      },
      "execution_count": 3,
      "outputs": [
        {
          "output_type": "stream",
          "name": "stdout",
          "text": [
            "Enter the number of test cases: 4\n",
            "Enter x and y separated by space: 1 10\n",
            "10\n",
            "Enter x and y separated by space: 2 15\n",
            "30\n",
            "Enter x and y separated by space: 3 20\n",
            "60\n",
            "Enter x and y separated by space: 5 25\n",
            "125\n"
          ]
        }
      ]
    },
    {
      "cell_type": "code",
      "source": [
        "import math\n",
        "\n",
        "def calculate_area_in_acres(radius_in_feet):\n",
        "    # Convert area from square feet to acres (1 acre = 43,560 sq ft)\n",
        "    area_in_square_feet = math.pi * (radius_in_feet ** 2)\n",
        "    area_in_acres = area_in_square_feet / 43560\n",
        "    return area_in_acres\n",
        "\n",
        "# Input the radius of the field in feet\n",
        "radius_in_feet = float(input(\"Enter the radius of the field in feet: \"))\n",
        "\n",
        "# Calculate and print the area of the field in acres\n",
        "area_in_acres = calculate_area_in_acres(radius_in_feet)\n",
        "print(f\"The area of the field is: {area_in_acres:.2f} acres\")\n",
        "\n"
      ],
      "metadata": {
        "colab": {
          "base_uri": "https://localhost:8080/"
        },
        "id": "WdJTLeA3f0Mc",
        "outputId": "3499ceaf-1bad-40fe-fa5d-88aa393ca6ba"
      },
      "execution_count": 5,
      "outputs": [
        {
          "output_type": "stream",
          "name": "stdout",
          "text": [
            "Enter the radius of the field in feet: 300\n",
            "The area of the field is: 6.49 acres\n"
          ]
        }
      ]
    },
    {
      "cell_type": "code",
      "source": [
        "import math\n",
        "\n",
        "def calculate_distance(x1, y1, x2, y2):\n",
        "    # Use the correct distance formula\n",
        "    distance = math.sqrt((x2 - x1)**2 + (y2 - y1)**2)\n",
        "    return distance\n",
        "\n",
        "# Input the coordinates of Ram\n",
        "x_ram = float(input(\"Enter the X-coordinate of Ram: \"))\n",
        "y_ram = float(input(\"Enter the Y-coordinate of Ram: \"))\n",
        "\n",
        "# Input the coordinates of Sita\n",
        "x_sita = float(input(\"Enter the X-coordinate of Sita: \"))\n",
        "y_sita = float(input(\"Enter the Y-coordinate of Sita: \"))\n",
        "\n",
        "# Calculate and print the distance between Ram and Sita\n",
        "distance_between_them = calculate_distance(x_ram, y_ram, x_sita, y_sita)\n",
        "print(f\"The distance between Ram and Sita is: {distance_between_them:.2f}\")\n"
      ],
      "metadata": {
        "colab": {
          "base_uri": "https://localhost:8080/"
        },
        "id": "v59uLuV6f5b_",
        "outputId": "ab914dca-2cac-414a-c7ba-b17b4aa7aead"
      },
      "execution_count": 6,
      "outputs": [
        {
          "output_type": "stream",
          "name": "stdout",
          "text": [
            "Enter the X-coordinate of Ram: 10\n",
            "Enter the Y-coordinate of Ram: 20\n",
            "Enter the X-coordinate of Sita: 30\n",
            "Enter the Y-coordinate of Sita: 40\n",
            "The distance between Ram and Sita is: 28.28\n"
          ]
        }
      ]
    }
  ]
}