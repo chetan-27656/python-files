{
  "nbformat": 4,
  "nbformat_minor": 0,
  "metadata": {
    "colab": {
      "provenance": [],
      "authorship_tag": "ABX9TyN5sfpemp4fdek0MdrtfDcG",
      "include_colab_link": true
    },
    "kernelspec": {
      "name": "python3",
      "display_name": "Python 3"
    },
    "language_info": {
      "name": "python"
    }
  },
  "cells": [
    {
      "cell_type": "markdown",
      "metadata": {
        "id": "view-in-github",
        "colab_type": "text"
      },
      "source": [
        "<a href=\"https://colab.research.google.com/github/chetan-27656/python-files/blob/main/task_4.ipynb\" target=\"_parent\"><img src=\"https://colab.research.google.com/assets/colab-badge.svg\" alt=\"Open In Colab\"/></a>"
      ]
    },
    {
      "cell_type": "code",
      "execution_count": 1,
      "metadata": {
        "colab": {
          "base_uri": "https://localhost:8080/"
        },
        "id": "L06GYdDvktVr",
        "outputId": "8e60da53-2da7-431c-effe-0c99c0c92110"
      },
      "outputs": [
        {
          "output_type": "stream",
          "name": "stdout",
          "text": [
            "[12]\n",
            "[12, 4]\n",
            "[12, 4, 2]\n",
            "[12, 4, 2, 4]\n",
            "[12, 2, 4]\n",
            "[12, 2, 4, 21]\n",
            "[2, 4, 12, 21]\n",
            "[2, 4, 12]\n",
            "[12, 4, 2]\n",
            "[0, 1, 2, 3, 4, 5, 6, 7, 8, 9]\n"
          ]
        }
      ],
      "source": [
        "sample=[]\n",
        "sample.insert(0,12)\n",
        "print(sample)\n",
        "sample.insert(1,4)\n",
        "print(sample)\n",
        "sample.insert(2,2)\n",
        "print(sample)\n",
        "sample.insert(3,4)\n",
        "print(sample)\n",
        "sample.remove(4)\n",
        "print(sample)\n",
        "sample.append(21)\n",
        "print(sample)\n",
        "sample.sort()\n",
        "print(sample)\n",
        "sample.pop()\n",
        "print(sample)\n",
        "sample.reverse()\n",
        "print(sample)\n",
        "a = list(range(10))\n",
        "print(a)"
      ]
    },
    {
      "cell_type": "code",
      "source": [
        "alist = []\n",
        "for i in range(int(input())):\n",
        "    name = input()\n",
        "    score = float(input())\n",
        "    alist.append([name, score])\n",
        "second_highest = sorted(set([score for name, score in alist]))[1] # List comprehension: iterates over each element of alist, unpacks each element into name and score, selects only the score part, and constructs a new sequence (e.g., a list) containing only the scores.\n",
        "print('\\n'.join(sorted([name for name, score in alist if score == second_highest])))"
      ],
      "metadata": {
        "colab": {
          "base_uri": "https://localhost:8080/"
        },
        "id": "EV-MDVWqk8Zi",
        "outputId": "54146510-7b83-4792-b265-95274b67fd60"
      },
      "execution_count": 3,
      "outputs": [
        {
          "output_type": "stream",
          "name": "stdout",
          "text": [
            "4\n",
            "menu\n",
            "25\n",
            "reena\n",
            "10\n",
            "priya\n",
            "10\n",
            "neha\n",
            "5\n",
            "priya\n",
            "reena\n"
          ]
        }
      ]
    },
    {
      "cell_type": "code",
      "source": [
        "n = int(input())\n",
        "a = map(int, input().split())\n",
        "t = tuple(a)\n",
        "print(hash(t));"
      ],
      "metadata": {
        "colab": {
          "base_uri": "https://localhost:8080/"
        },
        "id": "zf3z8WZglmlp",
        "outputId": "53f520fe-b1bd-45c8-8931-50881757c588"
      },
      "execution_count": 4,
      "outputs": [
        {
          "output_type": "stream",
          "name": "stdout",
          "text": [
            "3\n",
            "2 1 4\n",
            "7868426630899093470\n"
          ]
        }
      ]
    },
    {
      "cell_type": "code",
      "source": [
        "def min_paint_balloons(s):\n",
        " # Count the number of amber and brass balloons\n",
        " amber_count = s.count('a')\n",
        " brass_count = s.count('b')\n",
        " # Find the minimum count between amber and brass balloons\n",
        " min_paint = min(amber_count, brass_count)\n",
        " return min_paint\n",
        "# Input the number of test cases\n",
        "T = int(input(\"enter the total testcase\"))\n",
        "# Iterate through each test case\n",
        "for i in range(T):\n",
        " # Input the string representing balloon colors\n",
        " s = input().strip() #strip() is used to read a line of input from the user and remove any leading and trailing whitespace from that input\n",
        " # Calculate and print the minimum number of balloons needed to be painted\n",
        " print(min_paint_balloons(s))"
      ],
      "metadata": {
        "colab": {
          "base_uri": "https://localhost:8080/"
        },
        "id": "AwEc9XF2lsB3",
        "outputId": "f4ac659c-f608-4e9d-c645-a6cb9372bac7"
      },
      "execution_count": 6,
      "outputs": [
        {
          "output_type": "stream",
          "name": "stdout",
          "text": [
            "enter the total testcase4\n",
            "aaa bb a\n",
            "2\n",
            "ababbbb\n",
            "2\n",
            "abbbb\n",
            "1\n",
            "bababab\n",
            "3\n"
          ]
        }
      ]
    }
  ]
}