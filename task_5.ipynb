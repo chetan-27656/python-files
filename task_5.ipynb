{
  "nbformat": 4,
  "nbformat_minor": 0,
  "metadata": {
    "colab": {
      "provenance": [],
      "authorship_tag": "ABX9TyP3NXBJYBPUV6o3847W5O3+",
      "include_colab_link": true
    },
    "kernelspec": {
      "name": "python3",
      "display_name": "Python 3"
    },
    "language_info": {
      "name": "python"
    }
  },
  "cells": [
    {
      "cell_type": "markdown",
      "metadata": {
        "id": "view-in-github",
        "colab_type": "text"
      },
      "source": [
        "<a href=\"https://colab.research.google.com/github/chetan-27656/python-files/blob/main/task_5.ipynb\" target=\"_parent\"><img src=\"https://colab.research.google.com/assets/colab-badge.svg\" alt=\"Open In Colab\"/></a>"
      ]
    },
    {
      "cell_type": "code",
      "execution_count": 2,
      "metadata": {
        "colab": {
          "base_uri": "https://localhost:8080/"
        },
        "id": "WkRLd5O4mgrQ",
        "outputId": "ddf83676-e597-4855-a6aa-bf91fe1faa01"
      },
      "outputs": [
        {
          "output_type": "stream",
          "name": "stdout",
          "text": [
            "Element 110 is present at index 6\n"
          ]
        }
      ],
      "source": [
        "def search(arr, x):\n",
        "  for i in range(len(arr)):\n",
        "    if arr[i] == x:\n",
        "      return i\n",
        "  return -1\n",
        "# Example usage:\n",
        "arr = [10, 20, 80, 30, 60, 50, 110, 100, 130, 170]\n",
        "x = 110\n",
        "result = search(arr, x)\n",
        "if result != -1:\n",
        "  print(\"Element\", x, \"is present at index\", result)\n",
        "else:\n",
        "  print(\"Element\", x, \"is not present in the array\")"
      ]
    },
    {
      "cell_type": "code",
      "source": [
        "def binary_search(nums, target):\n",
        "  left=0\n",
        "  right=len(nums)- 1\n",
        "\n",
        "  while left <= right:\n",
        "    mid = left + (right - left) // 2\n",
        "    if nums[mid] == target:\n",
        "      return mid\n",
        "    elif nums[mid] < target:\n",
        "      left = mid + 1\n",
        "    else:\n",
        "      right = mid - 1\n",
        "\n",
        "  return -1\n",
        "# List is initialised\n",
        "nums = [-1, 0, 3, 5, 9, 12]\n",
        "target = 9\n",
        "print(binary_search(nums, target))"
      ],
      "metadata": {
        "colab": {
          "base_uri": "https://localhost:8080/"
        },
        "id": "MWmwtSObmmvD",
        "outputId": "7665fcfd-97d8-42df-c2ee-4c5a86cab660"
      },
      "execution_count": 4,
      "outputs": [
        {
          "output_type": "stream",
          "name": "stdout",
          "text": [
            "4\n"
          ]
        }
      ]
    },
    {
      "cell_type": "code",
      "source": [
        "def bubble_sort(arr):\n",
        "  n = len(arr)\n",
        "  for i in range(n):\n",
        "    for j in range(0, n-i-1):\n",
        "      if arr[j] > arr[j+1]:\n",
        "        arr[j], arr[j+1] = arr[j+1], arr[j]\n",
        "def find_sequence(arr):\n",
        "  smallest = arr[0]\n",
        "  largest = arr[-1]\n",
        "  print(\"Sequence of integers:\", smallest, \"to\", largest)\n",
        "# Step 1: Get the number of integers\n",
        "n = int(input(\"Enter the number of integers: \"))\n",
        "# Step 2: Receive the integers\n",
        "integers = []\n",
        "print(\"Enter the integers:\")\n",
        "for _ in range(n):\n",
        "  integers.append(int(input()))\n",
        "# Step 3: Sort the integers using bubble sort\n",
        "bubble_sort(integers)\n",
        "# Step 4: Print the start and end of sequence\n",
        "find_sequence(integers)"
      ],
      "metadata": {
        "colab": {
          "base_uri": "https://localhost:8080/"
        },
        "id": "bf43Lo6Dm4Ym",
        "outputId": "5464ac1a-7ed1-4afa-a975-53ab5ed980f2"
      },
      "execution_count": 6,
      "outputs": [
        {
          "output_type": "stream",
          "name": "stdout",
          "text": [
            "Enter the number of integers: 4\n",
            "Enter the integers:\n",
            "10\n",
            "50\n",
            "70\n",
            "20\n",
            "Sequence of integers: 10 to 70\n"
          ]
        }
      ]
    },
    {
      "cell_type": "code",
      "source": [
        "def selection_sort(scores):\n",
        "  n = len(scores)\n",
        "  for i in range(n):\n",
        "    min_index = i\n",
        "    for j in range(i+1, n):\n",
        "      if scores[j] < scores[min_index]:\n",
        "        min_index = j\n",
        "    scores[i], scores[min_index] = scores[min_index], scores[i]\n",
        "    print(\"After iteration\", i+1, \":\", scores)\n",
        "exam_scores = [87, 65, 92, 78, 55, 70, 82]\n",
        "print(\"Initial exam scores:\", exam_scores)\n",
        "print(\"Sorting using Selection Sort:\")\n",
        "selection_sort(exam_scores)\n",
        "print(\"Final sorted exam scores:\", exam_scores)"
      ],
      "metadata": {
        "colab": {
          "base_uri": "https://localhost:8080/"
        },
        "id": "te9KMjudnQy4",
        "outputId": "c8c69009-1a03-4a9d-f6ad-008ddce8115a"
      },
      "execution_count": 8,
      "outputs": [
        {
          "output_type": "stream",
          "name": "stdout",
          "text": [
            "Initial exam scores: [87, 65, 92, 78, 55, 70, 82]\n",
            "Sorting using Selection Sort:\n",
            "After iteration 1 : [55, 65, 92, 78, 87, 70, 82]\n",
            "After iteration 2 : [55, 65, 92, 78, 87, 70, 82]\n",
            "After iteration 3 : [55, 65, 70, 78, 87, 92, 82]\n",
            "After iteration 4 : [55, 65, 70, 78, 87, 92, 82]\n",
            "After iteration 5 : [55, 65, 70, 78, 82, 92, 87]\n",
            "After iteration 6 : [55, 65, 70, 78, 82, 87, 92]\n",
            "After iteration 7 : [55, 65, 70, 78, 82, 87, 92]\n",
            "Final sorted exam scores: [55, 65, 70, 78, 82, 87, 92]\n"
          ]
        }
      ]
    }
  ]
}