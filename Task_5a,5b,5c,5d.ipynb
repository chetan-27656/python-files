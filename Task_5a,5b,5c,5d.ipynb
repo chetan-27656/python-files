{
  "nbformat": 4,
  "nbformat_minor": 0,
  "metadata": {
    "colab": {
      "provenance": [],
      "authorship_tag": "ABX9TyMcu+1lnGzqCzpylFkAnmuT",
      "include_colab_link": true
    },
    "kernelspec": {
      "name": "python3",
      "display_name": "Python 3"
    },
    "language_info": {
      "name": "python"
    }
  },
  "cells": [
    {
      "cell_type": "markdown",
      "metadata": {
        "id": "view-in-github",
        "colab_type": "text"
      },
      "source": [
        "<a href=\"https://colab.research.google.com/github/chetan-27656/python-files/blob/main/Task_5a%2C5b%2C5c%2C5d.ipynb\" target=\"_parent\"><img src=\"https://colab.research.google.com/assets/colab-badge.svg\" alt=\"Open In Colab\"/></a>"
      ]
    },
    {
      "cell_type": "code",
      "execution_count": 1,
      "metadata": {
        "colab": {
          "base_uri": "https://localhost:8080/",
          "height": 106
        },
        "id": "tpqPmTqbC2Ov",
        "outputId": "e2480da2-c9f6-4f4c-a062-146de0974da5"
      },
      "outputs": [
        {
          "output_type": "error",
          "ename": "IndentationError",
          "evalue": "expected an indented block after 'for' statement on line 2 (ipython-input-2292471670.py, line 3)",
          "traceback": [
            "\u001b[0;36m  File \u001b[0;32m\"/tmp/ipython-input-2292471670.py\"\u001b[0;36m, line \u001b[0;32m3\u001b[0m\n\u001b[0;31m    if arr[i] == x:\u001b[0m\n\u001b[0m    ^\u001b[0m\n\u001b[0;31mIndentationError\u001b[0m\u001b[0;31m:\u001b[0m expected an indented block after 'for' statement on line 2\n"
          ]
        }
      ],
      "source": [
        "def search(arr, x):\n",
        " for i in range(len(arr)):\n",
        " if arr[i] == x:\n",
        " return i\n",
        " return -1\n",
        "# Example usage:\n",
        "arr = [10, 20, 80, 30, 60, 50, 110, 100, 130, 170]\n",
        "x = 110\n",
        "result = search(arr, x)\n",
        "if result != -1:\n",
        " print(\"Element\", x, \"is present at index\", result)\n",
        "else:\n",
        " print(\"Element\", x, \"is not present in the array\")\n",
        "\n",
        " def binary_search(nums, target):\n",
        " left=0\n",
        " right=len(nums)- 1\n",
        "\n",
        " while left <= right:\n",
        " mid = left + (right - left) // 2\n",
        " if nums[mid] == target:\n",
        " return mid\n",
        " elif nums[mid] < target:\n",
        " left = mid + 1\n",
        " else:\n",
        " right = mid - 1\n",
        "\n",
        " return -1\n",
        "# List is initialised\n",
        "nums = [-1, 0, 3, 5, 9, 12]\n",
        "target = 9\n",
        "print(binary_search(nums, target))\n",
        "\n",
        "def bubble_sort(arr):\n",
        " n = len(arr)\n",
        " for i in range(n):\n",
        " for j in range(0, n-i-1):\n",
        " if arr[j] > arr[j+1]:\n",
        " arr[j], arr[j+1] = arr[j+1], arr[j]\n",
        "def find_sequence(arr):\n",
        " smallest = arr[0]\n",
        " largest = arr[-1]\n",
        " print(\"Sequence of integers:\", smallest, \"to\", largest)\n",
        "# Step 1: Get the number of integers\n",
        "n = int(input(\"Enter the number of integers: \"))\n",
        "# Step 2: Receive the integers\n",
        "integers = []\n",
        "print(\"Enter the integers:\")\n",
        "for _ in range(n):\n",
        " integers.append(int(input()))\n",
        "# Step 3: Sort the integers using bubble sort\n",
        "bubble_sort(integers)\n",
        "# Step 4: Print the start and end of sequence\n",
        "find_sequence(integers)\n",
        "\n",
        "\n",
        "def selection_sort(scores):\n",
        " n = len(scores)\n",
        " for i in range(n):\n",
        " min_index = i\n",
        " for j in range(i+1, n):\n",
        " if scores[j] < scores[min_index]:\n",
        " min_index = j\n",
        " scores[i], scores[min_index] = scores[min_index], scores[i]\n",
        " print(\"After iteration\", i+1, \":\", scores)\n",
        "exam_scores = [87, 65, 92, 78, 55, 70, 82]\n",
        "print(\"Initial exam scores:\", exam_scores)\n",
        "print(\"Sorting using Selection Sort:\")\n",
        "selection_sort(exam_scores)\n",
        "print(\"Final sorted exam scores:\", exam_scores)"
      ]
    }
  ]
}