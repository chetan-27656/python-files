{
  "nbformat": 4,
  "nbformat_minor": 0,
  "metadata": {
    "colab": {
      "provenance": [],
      "authorship_tag": "ABX9TyPgAJCg4ArjFAWGZ0pE7phi",
      "include_colab_link": true
    },
    "kernelspec": {
      "name": "python3",
      "display_name": "Python 3"
    },
    "language_info": {
      "name": "python"
    }
  },
  "cells": [
    {
      "cell_type": "markdown",
      "metadata": {
        "id": "view-in-github",
        "colab_type": "text"
      },
      "source": [
        "<a href=\"https://colab.research.google.com/github/chetan-27656/python-files/blob/main/task_3.ipynb\" target=\"_parent\"><img src=\"https://colab.research.google.com/assets/colab-badge.svg\" alt=\"Open In Colab\"/></a>"
      ]
    },
    {
      "cell_type": "code",
      "execution_count": 1,
      "metadata": {
        "colab": {
          "base_uri": "https://localhost:8080/"
        },
        "id": "KonAkiHmgwM_",
        "outputId": "ff79a71c-9ecc-4ae3-d45c-1cc839731c22"
      },
      "outputs": [
        {
          "output_type": "stream",
          "name": "stdout",
          "text": [
            "Enter the date in MM DD YYYY format: 01 24 2007\n",
            "WEDNESDAY\n"
          ]
        }
      ],
      "source": [
        "import datetime\n",
        "# Input\n",
        "input_date = input(\"Enter the date in MM DD YYYY format: \")\n",
        "month, day, year = map(int, input_date.split())\n",
        "# Check if the year is within the specified constraints\n",
        "if 2000 < year < 3000:\n",
        " x = datetime.datetime(year, month, day) # Convert to datetime object\n",
        "\n",
        " day_name = x.strftime(\"%A\").upper() # Get and print the day in capital letters\n",
        " print(day_name)\n",
        "else:\n",
        " print(\"Year is not within the specified constraints.\")"
      ]
    },
    {
      "cell_type": "code",
      "source": [
        "from math import pow\n",
        "def compute_armstrong(x):\n",
        " n = len(str(x)) # Converts the number x to a string. For example, if x is 153, str(x) becomes the string \"153\".\n",
        " armstrong_sum = sum(pow(int(i), n) for i in str(x))\n",
        " return armstrong_sum == x\n",
        "number = int(input(\"Enter a number: \"))\n",
        "if compute_armstrong(number):\n",
        " print(f\"{number} is an Armstrong number\")\n",
        "else:\n",
        " print(f\"{number} is not an Armstrong number\")"
      ],
      "metadata": {
        "colab": {
          "base_uri": "https://localhost:8080/"
        },
        "id": "HzaN5sUJhVoV",
        "outputId": "d148cd97-50d5-43dd-df4f-9f28ae89a86d"
      },
      "execution_count": 3,
      "outputs": [
        {
          "output_type": "stream",
          "name": "stdout",
          "text": [
            "Enter a number: 121\n",
            "121 is not an Armstrong number\n"
          ]
        }
      ]
    },
    {
      "cell_type": "code",
      "source": [
        "import math\n",
        "\n",
        "def euclidean_distance(x1, x2, y1, y2):\n",
        "    distance = math.sqrt((x1 - y1)**2 + (x2 - y2)**2)\n",
        "    return distance\n",
        "\n",
        "# Input coordinates of point X\n",
        "x1 = float(input(\"Enter x1 (X[0]): \"))\n",
        "x2 = float(input(\"Enter x2 (X[1]): \"))\n",
        "\n",
        "# Input coordinates of point Y\n",
        "y1 = float(input(\"Enter y1 (Y[0]): \"))\n",
        "y2 = float(input(\"Enter y2 (Y[1]): \"))\n",
        "\n",
        "# Calculate distance\n",
        "distance = euclidean_distance(x1, x2, y1, y2)\n",
        "\n",
        "# Output\n",
        "print(f\"Euclidean distance between X and Y is: {distance:.4f}\")\n"
      ],
      "metadata": {
        "colab": {
          "base_uri": "https://localhost:8080/"
        },
        "id": "6rQlzYVEhrpf",
        "outputId": "8f0a051a-f8f7-45ce-b6d4-1237a3dde039"
      },
      "execution_count": 4,
      "outputs": [
        {
          "output_type": "stream",
          "name": "stdout",
          "text": [
            "Enter x1 (X[0]): 2\n",
            "Enter x2 (X[1]): 3\n",
            "Enter y1 (Y[0]): 6\n",
            "Enter y2 (Y[1]): 7\n",
            "Euclidean distance between X and Y is: 5.6569\n"
          ]
        }
      ]
    },
    {
      "cell_type": "code",
      "source": [
        "# greetings_package.py\n",
        "\n",
        "# Simulating the Greetings package with two modules: welcome and addition\n",
        "\n",
        "# --- welcome module ---\n",
        "def show_welcome_message():\n",
        "    print(\"Welcome to the Greetings package! 🎉\")\n",
        "\n",
        "# --- addition module ---\n",
        "def add_numbers(a, b):\n",
        "    return a + b\n",
        "\n",
        "# --- Usage Example ---\n",
        "if __name__ == \"__main__\":\n",
        "    show_welcome_message()\n",
        "    result = add_numbers(10, 15)\n",
        "    print(\"The sum is:\", result)\n"
      ],
      "metadata": {
        "colab": {
          "base_uri": "https://localhost:8080/"
        },
        "id": "XZr_kQmViNGp",
        "outputId": "80b93768-5bde-4eaf-80a2-a1d0eddff55b"
      },
      "execution_count": 5,
      "outputs": [
        {
          "output_type": "stream",
          "name": "stdout",
          "text": [
            "Welcome to the Greetings package! 🎉\n",
            "The sum is: 25\n"
          ]
        }
      ]
    }
  ]
}