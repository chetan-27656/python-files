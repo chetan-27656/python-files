{
  "nbformat": 4,
  "nbformat_minor": 0,
  "metadata": {
    "colab": {
      "provenance": [],
      "authorship_tag": "ABX9TyPwryoNf1dOE3U8osjHF8/d",
      "include_colab_link": true
    },
    "kernelspec": {
      "name": "python3",
      "display_name": "Python 3"
    },
    "language_info": {
      "name": "python"
    }
  },
  "cells": [
    {
      "cell_type": "markdown",
      "metadata": {
        "id": "view-in-github",
        "colab_type": "text"
      },
      "source": [
        "<a href=\"https://colab.research.google.com/github/chetan-27656/python-files/blob/main/task_8.ipynb\" target=\"_parent\"><img src=\"https://colab.research.google.com/assets/colab-badge.svg\" alt=\"Open In Colab\"/></a>"
      ]
    },
    {
      "cell_type": "code",
      "execution_count": 2,
      "metadata": {
        "colab": {
          "base_uri": "https://localhost:8080/"
        },
        "id": "OgMuoOyGs4vc",
        "outputId": "c4a91283-fb68-481d-f5a7-c90248c1ec37"
      },
      "outputs": [
        {
          "output_type": "stream",
          "name": "stdout",
          "text": [
            "0 1 1 2 3 5 8 13 21 34 "
          ]
        }
      ],
      "source": [
        "def fibonacci():\n",
        " a, b = 0, 1\n",
        " for _ in range(10): # Generate Fibonacci numbers using a generator function\n",
        "  yield a\n",
        "  a, b = b, a + b\n",
        "fibonacci_series = fibonacci() # Create a generator object for Fibonacci series\n",
        "for number in fibonacci_series: # Print the first 10 Fibonacci numbers\n",
        " print(number, end=\" \")"
      ]
    },
    {
      "cell_type": "code",
      "source": [
        "def squares():\n",
        " for i in range(5): # Generate squares of numbers 0 through 4\n",
        "  yield i ** 2\n",
        "# Create a generator object for squares of numbers 0 through 4\n",
        "squares_generator = squares()\n",
        "# Iterate over the generator object and print the squares\n",
        "for square in squares_generator:\n",
        " print(square)"
      ],
      "metadata": {
        "colab": {
          "base_uri": "https://localhost:8080/"
        },
        "id": "8aaRun_ptD_k",
        "outputId": "4f6c5e3e-45b3-4f29-94c5-60b338d41a68"
      },
      "execution_count": 5,
      "outputs": [
        {
          "output_type": "stream",
          "name": "stdout",
          "text": [
            "0\n",
            "1\n",
            "4\n",
            "9\n",
            "16\n"
          ]
        }
      ]
    },
    {
      "cell_type": "code",
      "source": [
        "def operation_decorator(func):\n",
        " def wrapper(x, y):\n",
        "  print(\"Performing arithmetic operation...\")\n",
        "  result = func(x, y)\n",
        "  print(\"Operation completed.\")\n",
        "  return result\n",
        " return wrapper\n",
        "# Applying decorator to arithmetic operations\n",
        "@operation_decorator\n",
        "def add(x, y):\n",
        " return x + y\n",
        "@operation_decorator\n",
        "def divide(x, y):\n",
        " if y == 0:\n",
        "  return \"Cannot divide by zero!\"\n",
        " else:\n",
        "  return x / y\n",
        "result_add = add(5, 3)\n",
        "print(\"Result of addition:\", result_add)\n",
        "result_divide = divide(15, 0)\n",
        "print(\"Result of division:\", result_divide)"
      ],
      "metadata": {
        "colab": {
          "base_uri": "https://localhost:8080/"
        },
        "id": "JarCjBqYtNTG",
        "outputId": "49bb05c3-6330-40f2-8fab-8d6022bd14b6"
      },
      "execution_count": 7,
      "outputs": [
        {
          "output_type": "stream",
          "name": "stdout",
          "text": [
            "Performing arithmetic operation...\n",
            "Operation completed.\n",
            "Result of addition: 8\n",
            "Performing arithmetic operation...\n",
            "Operation completed.\n",
            "Result of division: Cannot divide by zero!\n"
          ]
        }
      ]
    }
  ]
}