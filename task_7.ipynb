{
  "nbformat": 4,
  "nbformat_minor": 0,
  "metadata": {
    "colab": {
      "provenance": [],
      "authorship_tag": "ABX9TyO29T/zfdAXt2rG7BHQkipN",
      "include_colab_link": true
    },
    "kernelspec": {
      "name": "python3",
      "display_name": "Python 3"
    },
    "language_info": {
      "name": "python"
    }
  },
  "cells": [
    {
      "cell_type": "markdown",
      "metadata": {
        "id": "view-in-github",
        "colab_type": "text"
      },
      "source": [
        "<a href=\"https://colab.research.google.com/github/chetan-27656/python-files/blob/main/task_7.ipynb\" target=\"_parent\"><img src=\"https://colab.research.google.com/assets/colab-badge.svg\" alt=\"Open In Colab\"/></a>"
      ]
    },
    {
      "cell_type": "code",
      "execution_count": 2,
      "metadata": {
        "colab": {
          "base_uri": "https://localhost:8080/"
        },
        "id": "L8mwVHK1sIYO",
        "outputId": "8db046b0-9978-4850-856c-7efd30fed6b6"
      },
      "outputs": [
        {
          "output_type": "stream",
          "name": "stdout",
          "text": [
            "Enter Item Code: 122\n",
            "Enter Item Name: brinjal\n",
            "Enter Price: 15\n",
            "Enter Quantity: 15\n",
            "Item Code: 122\n",
            "Item: brinjal\n",
            "Price: 15.0\n",
            "Quantity: 15\n",
            "Discount: 15\n",
            "Net Price: 210.0\n"
          ]
        }
      ],
      "source": [
        "def find_discount(qty):\n",
        "    if qty <= 10:\n",
        "        return 0\n",
        "    elif 11 <= qty <= 20:\n",
        "        return 15\n",
        "    else:\n",
        "        return 20\n",
        "def buy():\n",
        "    ICode = int(input(\"Enter Item Code: \"))\n",
        "    Item = input(\"Enter Item Name: \")\n",
        "    Price = float(input(\"Enter Price: \"))\n",
        "    Qty = int(input(\"Enter Quantity: \"))\n",
        "    Discount = find_discount(Qty)\n",
        "    Netprice = Price * Qty - Discount\n",
        "    return ICode, Item, Price, Qty, Discount, Netprice\n",
        "def show_all(ICode, Item, Price, Qty, Discount, Netprice):\n",
        "    print(\"Item Code:\", ICode)\n",
        "    print(\"Item:\", Item)\n",
        "    print(\"Price:\", Price)\n",
        "    print(\"Quantity:\", Qty)\n",
        "    print(\"Discount:\", Discount)\n",
        "    print(\"Net Price:\", Netprice)\n",
        "ICode, Item, Price, Qty, Discount, Netprice = buy()\n",
        "show_all(ICode, Item, Price, Qty, Discount, Netprice)"
      ]
    },
    {
      "cell_type": "code",
      "source": [
        "def cube_product_of_natural_numbers(n):\n",
        " product = 1\n",
        " for i in range(1, n + 1):\n",
        "    product *= i ** 3\n",
        " return product\n",
        "# Get input from the user\n",
        "n = int(input(\"Enter the value of N: \"))\n",
        "# Calculate the cube product\n",
        "result = cube_product_of_natural_numbers(n)\n",
        "# Output the result\n",
        "print(\"Cube product of the first\", n, \"natural numbers is:\", result)"
      ],
      "metadata": {
        "colab": {
          "base_uri": "https://localhost:8080/"
        },
        "id": "z7dmmUphsPqo",
        "outputId": "7c40b3cd-ad74-4187-f68a-0684bb0be5df"
      },
      "execution_count": 4,
      "outputs": [
        {
          "output_type": "stream",
          "name": "stdout",
          "text": [
            "Enter the value of N: 3\n",
            "Cube product of the first 3 natural numbers is: 216\n"
          ]
        }
      ]
    },
    {
      "cell_type": "code",
      "source": [
        "def func_compute(n):\n",
        " return lambda x: x * n\n",
        "result = func_compute(2)\n",
        "print(\"Double the number of 15 =\", result(15))\n",
        "result = func_compute(3)\n",
        "print(\"Triple the number of 15 =\", result(15))\n",
        "result = func_compute(4)\n",
        "print(\"Quadruple the number of 15 =\", result(15))\n",
        "result = func_compute(5)\n",
        "print(\"Quintuple the number 15 =\", result(15))"
      ],
      "metadata": {
        "colab": {
          "base_uri": "https://localhost:8080/"
        },
        "id": "odroJgTnsjfG",
        "outputId": "5405431f-c91b-414f-f2c1-5ac20e559fbc"
      },
      "execution_count": 5,
      "outputs": [
        {
          "output_type": "stream",
          "name": "stdout",
          "text": [
            "Double the number of 15 = 30\n",
            "Triple the number of 15 = 45\n",
            "Quadruple the number of 15 = 60\n",
            "Quintuple the number 15 = 75\n"
          ]
        }
      ]
    },
    {
      "cell_type": "code",
      "source": [
        "def categorize_tickets(ticket_ids):\n",
        " adult_tickets = list(filter(lambda x: x % 2 == 0, ticket_ids))\n",
        " child_tickets = list(filter(lambda x: x % 2 != 0, ticket_ids))\n",
        " return adult_tickets, child_tickets\n",
        "ticket_ids = [101, 202, 305, 410, 513, 620, 723, 830, 945, 1050]\n",
        "# Categorize the tickets\n",
        "adult_tickets, child_tickets = categorize_tickets(ticket_ids)\n",
        "# Print the results\n",
        "print(\"Adult Tickets:\", adult_tickets)\n",
        "print(\"Child Tickets:\", child_tickets)"
      ],
      "metadata": {
        "colab": {
          "base_uri": "https://localhost:8080/"
        },
        "id": "RR55oppSsPnQ",
        "outputId": "e68ab5f6-a4d8-4bd2-a123-e8b78bcc7407"
      },
      "execution_count": 6,
      "outputs": [
        {
          "output_type": "stream",
          "name": "stdout",
          "text": [
            "Adult Tickets: [202, 410, 620, 830, 1050]\n",
            "Child Tickets: [101, 305, 513, 723, 945]\n"
          ]
        }
      ]
    }
  ]
}