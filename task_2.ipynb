{
  "nbformat": 4,
  "nbformat_minor": 0,
  "metadata": {
    "colab": {
      "provenance": [],
      "authorship_tag": "ABX9TyNsMtNG+ax4v+Rp6tVXcCCu",
      "include_colab_link": true
    },
    "kernelspec": {
      "name": "python3",
      "display_name": "Python 3"
    },
    "language_info": {
      "name": "python"
    }
  },
  "cells": [
    {
      "cell_type": "markdown",
      "metadata": {
        "id": "view-in-github",
        "colab_type": "text"
      },
      "source": [
        "<a href=\"https://colab.research.google.com/github/chetan-27656/python-files/blob/main/task_2.ipynb\" target=\"_parent\"><img src=\"https://colab.research.google.com/assets/colab-badge.svg\" alt=\"Open In Colab\"/></a>"
      ]
    },
    {
      "cell_type": "code",
      "source": [
        "import random  # ✅ You must import the random module\n",
        "\n",
        "def guess_number():\n",
        "    # Generate a random number between 1 and 9\n",
        "    target_number = random.randint(1, 9)\n",
        "\n",
        "    while True:\n",
        "        # Prompt the user to enter a guess\n",
        "        try:\n",
        "            user_guess = int(input(\"Guess a number between 1 and 9: \"))\n",
        "        except ValueError:\n",
        "            print(\"Invalid input. Please enter an integer.\")\n",
        "            continue\n",
        "\n",
        "        # Check if the guess is correct\n",
        "        if user_guess == target_number:\n",
        "            print(\"Well guessed!\")\n",
        "            break\n",
        "        else:\n",
        "            print(\"Wrong guess. Try again.\")\n",
        "\n",
        "# Call the function\n",
        "guess_number()\n"
      ],
      "metadata": {
        "colab": {
          "base_uri": "https://localhost:8080/"
        },
        "id": "EGweN9_Jb4jz",
        "outputId": "7ab407a8-b184-4f31-9c3b-6b208f835180"
      },
      "execution_count": null,
      "outputs": [
        {
          "output_type": "stream",
          "name": "stdout",
          "text": [
            "Guess a number between 1 and 9: 5\n",
            "Wrong guess. Try again.\n",
            "Guess a number between 1 and 9: 2\n",
            "Wrong guess. Try again.\n",
            "Guess a number between 1 and 9: 7\n",
            "Wrong guess. Try again.\n",
            "Guess a number between 1 and 9: 6\n",
            "Wrong guess. Try again.\n",
            "Guess a number between 1 and 9: 3\n",
            "Well guessed!\n"
          ]
        }
      ]
    },
    {
      "cell_type": "code",
      "source": [
        "for number in range(1, 51):\n",
        "    if number % 3 == 0 and number % 5 == 0:\n",
        "        print(\"FizzBuzz\")\n",
        "    elif number % 3 == 0:\n",
        "        print(\"Fizz\")\n",
        "    elif number % 5 == 0:\n",
        "        print(\"Buzz\")\n",
        "    else:\n",
        "        print(number)\n"
      ],
      "metadata": {
        "colab": {
          "base_uri": "https://localhost:8080/"
        },
        "id": "QQqwRktccZq4",
        "outputId": "a245f32b-9395-4b91-fee8-a031e84d14fd"
      },
      "execution_count": null,
      "outputs": [
        {
          "output_type": "stream",
          "name": "stdout",
          "text": [
            "1\n",
            "2\n",
            "Fizz\n",
            "4\n",
            "Buzz\n",
            "Fizz\n",
            "7\n",
            "8\n",
            "Fizz\n",
            "Buzz\n",
            "11\n",
            "Fizz\n",
            "13\n",
            "14\n",
            "FizzBuzz\n",
            "16\n",
            "17\n",
            "Fizz\n",
            "19\n",
            "Buzz\n",
            "Fizz\n",
            "22\n",
            "23\n",
            "Fizz\n",
            "Buzz\n",
            "26\n",
            "Fizz\n",
            "28\n",
            "29\n",
            "FizzBuzz\n",
            "31\n",
            "32\n",
            "Fizz\n",
            "34\n",
            "Buzz\n",
            "Fizz\n",
            "37\n",
            "38\n",
            "Fizz\n",
            "Buzz\n",
            "41\n",
            "Fizz\n",
            "43\n",
            "44\n",
            "FizzBuzz\n",
            "46\n",
            "47\n",
            "Fizz\n",
            "49\n",
            "Buzz\n"
          ]
        }
      ]
    },
    {
      "cell_type": "code",
      "source": [
        "nums = list(input(\"Enter a sequence of comma-separated 4-digit binary numbers: \").split(','))\n",
        "res = [i for i in nums if int(i, 2) % 6==0]\n",
        "print(res)"
      ],
      "metadata": {
        "colab": {
          "base_uri": "https://localhost:8080/"
        },
        "id": "uvnZEAVLcbQX",
        "outputId": "7adc23b9-f750-4894-ded3-fcb5d7def666"
      },
      "execution_count": null,
      "outputs": [
        {
          "output_type": "stream",
          "name": "stdout",
          "text": [
            "Enter a sequence of comma-separated 4-digit binary numbers: 0110,1001\n",
            "['0110']\n"
          ]
        }
      ]
    },
    {
      "cell_type": "code",
      "source": [
        "def count_even_odd(numbers):\n",
        "    even_count = 0\n",
        "    odd_count = 0\n",
        "    for num in numbers:\n",
        "        if num % 2 == 0:\n",
        "            even_count += 1\n",
        "        else:\n",
        "            odd_count += 1\n",
        "    return even_count, odd_count\n",
        "\n",
        "input_numbers = input(\"Enter a series of numbers separated by spaces: \")\n",
        "numbers = list(map(int, input_numbers.split()))\n",
        "even_count, odd_count = count_even_odd(numbers)\n",
        "\n",
        "print(\"Number of even numbers:\", even_count)\n",
        "print(\"Number of odd numbers:\", odd_count)\n"
      ],
      "metadata": {
        "colab": {
          "base_uri": "https://localhost:8080/"
        },
        "id": "xXFXimeGcviZ",
        "outputId": "bbcf8293-33f7-4f25-909d-042a89281cb6"
      },
      "execution_count": null,
      "outputs": [
        {
          "output_type": "stream",
          "name": "stdout",
          "text": [
            "Enter a series of numbers separated by spaces: 1 2 3 4 5\n",
            "Number of even numbers: 2\n",
            "Number of odd numbers: 3\n"
          ]
        }
      ]
    }
  ]
}